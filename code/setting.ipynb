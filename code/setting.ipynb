{
 "cells": [
  {
   "cell_type": "code",
   "execution_count": 2,
   "metadata": {},
   "outputs": [
    {
     "name": "stdout",
     "output_type": "stream",
     "text": [
      "C:\\Windows\\Fonts\\POORICH.TTF\n",
      "C:\\Windows\\Fonts\\BELL.TTF\n",
      "C:\\Windows\\Fonts\\ROCCB___.TTF\n",
      "C:\\Users\\HYUK\\AppData\\Local\\Microsoft\\Windows\\Fonts\\경기천년제목_Light.ttf\n",
      "C:\\Windows\\Fonts\\BSSYM7.TTF\n",
      "C:\\Windows\\Fonts\\NIAGENG.TTF\n",
      "C:\\Windows\\Fonts\\LTYPEB.TTF\n",
      "C:\\Windows\\Fonts\\CASTELAR.TTF\n",
      "C:\\Windows\\Fonts\\CascadiaCode.ttf\n",
      "C:\\Windows\\Fonts\\H2GTRE.TTF\n",
      "C:\\Users\\HYUK\\AppData\\Local\\Microsoft\\Windows\\Fonts\\경기천년바탕_Bold.ttf\n",
      "C:\\Windows\\Fonts\\YuGothR.ttc\n",
      "C:\\Windows\\Fonts\\H2GTRM.TTF\n",
      "C:\\Windows\\Fonts\\CALIFR.TTF\n",
      "C:\\Windows\\Fonts\\constan.ttf\n",
      "C:\\Windows\\Fonts\\corbel.ttf\n",
      "C:\\Windows\\Fonts\\SHOWG.TTF\n",
      "C:\\Windows\\Fonts\\LTYPEO.TTF\n",
      "C:\\Windows\\Fonts\\MATURASC.TTF\n",
      "C:\\Windows\\Fonts\\pala.ttf\n",
      "C:\\Windows\\Fonts\\verdana.ttf\n",
      "C:\\Windows\\Fonts\\segoeuil.ttf\n",
      "C:\\Windows\\Fonts\\REFSPCL.TTF\n",
      "C:\\Users\\HYUK\\AppData\\Local\\Microsoft\\Windows\\Fonts\\HANCooljazzL.ttf\n",
      "C:\\Windows\\Fonts\\BOD_R.TTF\n",
      "C:\\Users\\HYUK\\AppData\\Local\\Microsoft\\Windows\\Fonts\\GodoB.otf\n",
      "C:\\Windows\\Fonts\\SCHLBKB.TTF\n",
      "C:\\Windows\\Fonts\\ntailub.ttf\n",
      "C:\\Windows\\Fonts\\seguisym.ttf\n",
      "C:\\Users\\HYUK\\AppData\\Local\\Microsoft\\Windows\\Fonts\\NotoSansKR-ExtraBold.ttf\n",
      "C:\\Windows\\Fonts\\ARIALN.TTF\n",
      "C:\\Windows\\Fonts\\ROCKEB.TTF\n",
      "C:\\Windows\\Fonts\\LBRITEDI.TTF\n",
      "C:\\Windows\\Fonts\\cambriab.ttf\n",
      "C:\\Windows\\Fonts\\HMKMAMI.TTF\n",
      "C:\\Users\\HYUK\\AppData\\Local\\Microsoft\\Windows\\Fonts\\NotoSansKR-Thin.ttf\n",
      "C:\\Windows\\Fonts\\MAGNETOB.TTF\n",
      "C:\\Windows\\Fonts\\BRLNSDB.TTF\n",
      "C:\\Windows\\Fonts\\MAIAN.TTF\n",
      "C:\\Windows\\Fonts\\HANBatangExt.ttf\n",
      "C:\\Users\\HYUK\\AppData\\Local\\Microsoft\\Windows\\Fonts\\IBMPlexMono-Light.ttf\n",
      "C:\\Windows\\Fonts\\msyhl.ttc\n",
      "C:\\Windows\\Fonts\\msjhbd.ttc\n",
      "C:\\Windows\\Fonts\\BKANT.TTF\n",
      "C:\\Windows\\Fonts\\constanz.ttf\n",
      "C:\\Users\\HYUK\\AppData\\Local\\Microsoft\\Windows\\Fonts\\IBMPlexMono-Bold.ttf\n",
      "C:\\Windows\\Fonts\\bahnschrift.ttf\n",
      "C:\\Windows\\Fonts\\YuGothB.ttc\n",
      "C:\\Users\\HYUK\\AppData\\Local\\Microsoft\\Windows\\Fonts\\IBMPlexMono-Italic.ttf\n",
      "C:\\Windows\\Fonts\\FREESCPT.TTF\n",
      "C:\\Windows\\Fonts\\Candarali.ttf\n",
      "C:\\Users\\HYUK\\AppData\\Local\\Microsoft\\Windows\\Fonts\\NotoSansKR-Medium.ttf\n",
      "C:\\Windows\\Fonts\\BOD_CBI.TTF\n",
      "C:\\Windows\\Fonts\\HanSantteutDotum-Regular.ttf\n",
      "C:\\Windows\\Fonts\\msjhl.ttc\n",
      "C:\\Windows\\Fonts\\GOTHIC.TTF\n",
      "C:\\Windows\\Fonts\\calibriz.ttf\n",
      "C:\\Windows\\Fonts\\BASKVILL.TTF\n",
      "C:\\Windows\\Fonts\\COPRGTB.TTF\n",
      "C:\\Windows\\Fonts\\ANTQUABI.TTF\n",
      "C:\\Windows\\Fonts\\MSUIGHUB.TTF\n",
      "C:\\Windows\\Fonts\\VLADIMIR.TTF\n",
      "C:\\Windows\\Fonts\\SitkaVF-Italic.ttf\n",
      "C:\\Windows\\Fonts\\ITCEDSCR.TTF\n",
      "C:\\Windows\\Fonts\\ARIALNI.TTF\n",
      "C:\\Windows\\Fonts\\consolai.ttf\n",
      "C:\\Windows\\Fonts\\GILLUBCD.TTF\n",
      "C:\\Windows\\Fonts\\LFAXDI.TTF\n",
      "C:\\Windows\\Fonts\\verdanaz.ttf\n",
      "C:\\Windows\\Fonts\\LeelaUIb.ttf\n",
      "C:\\Windows\\Fonts\\malgunbd.ttf\n",
      "C:\\Windows\\Fonts\\LEELAWAD.TTF\n",
      "C:\\Windows\\Fonts\\TCMI____.TTF\n",
      "C:\\Windows\\Fonts\\H2MKPB.TTF\n",
      "C:\\Windows\\Fonts\\trebucit.ttf\n",
      "C:\\Windows\\Fonts\\ERASLGHT.TTF\n",
      "C:\\Windows\\Fonts\\FRABK.TTF\n",
      "C:\\Windows\\Fonts\\GOTHICI.TTF\n",
      "C:\\Windows\\Fonts\\Candaral.ttf\n",
      "C:\\Windows\\Fonts\\FRADMIT.TTF\n",
      "C:\\Windows\\Fonts\\RAGE.TTF\n",
      "C:\\Windows\\Fonts\\JUMJA.TTF\n",
      "C:\\Windows\\Fonts\\framd.ttf\n",
      "C:\\Windows\\Fonts\\corbelb.ttf\n",
      "C:\\Windows\\Fonts\\CENTURY.TTF\n",
      "C:\\Windows\\Fonts\\AGENCYB.TTF\n",
      "C:\\Windows\\Fonts\\BOD_CR.TTF\n",
      "C:\\Users\\HYUK\\AppData\\Local\\Microsoft\\Windows\\Fonts\\NotoSansKR-SemiBold.ttf\n",
      "C:\\Windows\\Fonts\\PALSCRI.TTF\n",
      "C:\\Windows\\Fonts\\tahoma.ttf\n",
      "C:\\Windows\\Fonts\\OLDENGL.TTF\n",
      "C:\\Windows\\Fonts\\ebrimabd.ttf\n",
      "C:\\Windows\\Fonts\\cour.ttf\n",
      "C:\\Windows\\Fonts\\SCHLBKBI.TTF\n",
      "C:\\Windows\\Fonts\\seguihis.ttf\n",
      "C:\\Windows\\Fonts\\HANBatangExtBB.ttf\n",
      "C:\\Windows\\Fonts\\seguisb.ttf\n",
      "C:\\Windows\\Fonts\\constanb.ttf\n",
      "C:\\Windows\\Fonts\\gadugib.ttf\n",
      "C:\\Windows\\Fonts\\JOKERMAN.TTF\n",
      "C:\\Windows\\Fonts\\ROCKBI.TTF\n",
      "C:\\Users\\HYUK\\AppData\\Local\\Microsoft\\Windows\\Fonts\\경기천년제목_Medium.ttf\n",
      "C:\\Users\\HYUK\\AppData\\Local\\Microsoft\\Windows\\Fonts\\News 706 BT.ttf\n",
      "C:\\Windows\\Fonts\\timesi.ttf\n",
      "C:\\Users\\HYUK\\AppData\\Local\\Microsoft\\Windows\\Fonts\\News706BTRoman.ttf\n",
      "C:\\Windows\\Fonts\\DejaVuSansMono-Oblique_0.ttf\n",
      "C:\\Windows\\Fonts\\CALIST.TTF\n",
      "C:\\Windows\\Fonts\\Inkfree.ttf\n",
      "C:\\Windows\\Fonts\\holomdl2.ttf\n",
      "C:\\Users\\HYUK\\AppData\\Local\\Microsoft\\Windows\\Fonts\\IBMPlexMono-ExtraLight.ttf\n",
      "C:\\Windows\\Fonts\\LBRITEI.TTF\n",
      "C:\\Windows\\Fonts\\DUBAI-MEDIUM.TTF\n",
      "C:\\Windows\\Fonts\\couri.ttf\n",
      "C:\\Windows\\Fonts\\lucon.ttf\n",
      "C:\\Windows\\Fonts\\segmdl2.ttf\n",
      "C:\\Windows\\Fonts\\REFSAN.TTF\n",
      "C:\\Windows\\Fonts\\webdings.ttf\n",
      "C:\\Windows\\Fonts\\msyhbd.ttc\n",
      "C:\\Windows\\Fonts\\verdanab.ttf\n",
      "C:\\Users\\HYUK\\AppData\\Local\\Microsoft\\Windows\\Fonts\\경기천년바탕_Regular.ttf\n",
      "C:\\Windows\\Fonts\\segoesc.ttf\n",
      "C:\\Windows\\Fonts\\segoescb.ttf\n",
      "C:\\Windows\\Fonts\\seguiemj.ttf\n",
      "C:\\Windows\\Fonts\\INFROMAN.TTF\n",
      "C:\\Windows\\Fonts\\VIVALDII.TTF\n",
      "C:\\Windows\\Fonts\\Nirmala.ttf\n",
      "C:\\Windows\\Fonts\\segoeprb.ttf\n",
      "C:\\Windows\\Fonts\\arialbd.ttf\n",
      "C:\\Windows\\Fonts\\sylfaen.ttf\n",
      "C:\\Windows\\Fonts\\ERASMD.TTF\n",
      "C:\\Windows\\Fonts\\corbelli.ttf\n",
      "C:\\Windows\\Fonts\\ARIALNB.TTF\n",
      "C:\\Windows\\Fonts\\H2MJSM.TTF\n",
      "C:\\Windows\\Fonts\\PLAYBILL.TTF\n",
      "C:\\Windows\\Fonts\\HanSantteutDotum-Bold.ttf\n",
      "C:\\Windows\\Fonts\\ITCBLKAD.TTF\n",
      "C:\\Windows\\Fonts\\GIL_____.TTF\n",
      "C:\\Windows\\Fonts\\BOOKOSBI.TTF\n",
      "C:\\Windows\\Fonts\\GILSANUB.TTF\n",
      "C:\\Windows\\Fonts\\ROCKB.TTF\n",
      "C:\\Windows\\Fonts\\MalangmalangB.ttf\n",
      "C:\\Windows\\Fonts\\cambriai.ttf\n",
      "C:\\Windows\\Fonts\\BOD_B.TTF\n",
      "C:\\Windows\\Fonts\\BERNHC.TTF\n",
      "C:\\Windows\\Fonts\\ROCK.TTF\n",
      "C:\\Windows\\Fonts\\corbell.ttf\n",
      "C:\\Users\\HYUK\\AppData\\Local\\Microsoft\\Windows\\Fonts\\IBMPlexMono-Thin.ttf\n",
      "C:\\Windows\\Fonts\\ariblk.ttf\n",
      "C:\\Windows\\Fonts\\GOTHICB.TTF\n",
      "C:\\Windows\\Fonts\\seguili.ttf\n",
      "C:\\Windows\\Fonts\\trebucbi.ttf\n",
      "C:\\Windows\\Fonts\\verdanai.ttf\n",
      "C:\\Windows\\Fonts\\DejaVuSansMono-Bold_0.ttf\n",
      "C:\\Windows\\Fonts\\Hancom HMJE_V.ttf\n",
      "C:\\Windows\\Fonts\\RAVIE.TTF\n",
      "C:\\Windows\\Fonts\\Candaraz.ttf\n",
      "C:\\Windows\\Fonts\\malgun.ttf\n",
      "C:\\Windows\\Fonts\\HancomUljuCheonjeonriPetroglyph.ttf\n",
      "C:\\Windows\\Fonts\\PRISTINA.TTF\n",
      "C:\\Windows\\Fonts\\GIGI.TTF\n",
      "C:\\Windows\\Fonts\\CENTAUR.TTF\n",
      "C:\\Windows\\Fonts\\mmrtextb.ttf\n",
      "C:\\Windows\\Fonts\\comic.ttf\n",
      "C:\\Windows\\Fonts\\SansSerifCollection.ttf\n",
      "C:\\Windows\\Fonts\\SitkaVF.ttf\n",
      "C:\\Windows\\Fonts\\trebuc.ttf\n",
      "C:\\Users\\HYUK\\AppData\\Local\\Microsoft\\Windows\\Fonts\\IBMPlexMono-Medium.ttf\n",
      "C:\\Windows\\Fonts\\NirmalaB.ttf\n",
      "C:\\Users\\HYUK\\AppData\\Local\\Microsoft\\Windows\\Fonts\\IBMPlexMono-ThinItalic.ttf\n",
      "C:\\Windows\\Fonts\\JUICE___.TTF\n",
      "C:\\Windows\\Fonts\\PERTIBD.TTF\n",
      "C:\\Windows\\Fonts\\timesbd.ttf\n",
      "C:\\Windows\\Fonts\\tahomabd.ttf\n",
      "C:\\Windows\\Fonts\\CALISTBI.TTF\n",
      "C:\\Windows\\Fonts\\GARABD.TTF\n",
      "C:\\Windows\\Fonts\\GARAIT.TTF\n",
      "C:\\Users\\HYUK\\AppData\\Local\\Microsoft\\Windows\\Fonts\\News706BTItalic.ttf\n",
      "C:\\Windows\\Fonts\\micross.ttf\n",
      "C:\\Windows\\Fonts\\HMKMMAG.TTF\n",
      "C:\\Windows\\Fonts\\comicbd.ttf\n",
      "C:\\Windows\\Fonts\\courbi.ttf\n",
      "C:\\Windows\\Fonts\\seguibl.ttf\n",
      "C:\\Windows\\Fonts\\HMFMMUEX.TTC\n",
      "C:\\Windows\\Fonts\\CURLZ___.TTF\n",
      "C:\\Windows\\Fonts\\WINGDNG2.TTF\n",
      "C:\\Users\\HYUK\\AppData\\Local\\Microsoft\\Windows\\Fonts\\IBMPlexMono-LightItalic.ttf\n",
      "C:\\Windows\\Fonts\\LCALLIG.TTF\n",
      "C:\\Windows\\Fonts\\framdit.ttf\n",
      "C:\\Windows\\Fonts\\TCCB____.TTF\n",
      "C:\\Users\\HYUK\\AppData\\Local\\Microsoft\\Windows\\Fonts\\IBMPlexMono-SemiBold.ttf\n",
      "C:\\Windows\\Fonts\\BOD_BLAR.TTF\n",
      "C:\\Windows\\Fonts\\calibrib.ttf\n",
      "C:\\Windows\\Fonts\\GLSNECB.TTF\n",
      "C:\\Windows\\Fonts\\Candarai.ttf\n",
      "C:\\Windows\\Fonts\\FORTE.TTF\n",
      "C:\\Windows\\Fonts\\HATTEN.TTF\n",
      "C:\\Windows\\Fonts\\HARNGTON.TTF\n",
      "C:\\Windows\\Fonts\\PER_____.TTF\n",
      "C:\\Windows\\Fonts\\palai.ttf\n",
      "C:\\Windows\\Fonts\\comici.ttf\n",
      "C:\\Windows\\Fonts\\GILB____.TTF\n",
      "C:\\Windows\\Fonts\\ARIALNBI.TTF\n",
      "C:\\Windows\\Fonts\\OCRAEXT.TTF\n",
      "C:\\Windows\\Fonts\\BAUHS93.TTF\n",
      "C:\\Windows\\Fonts\\PAPYRUS.TTF\n",
      "C:\\Windows\\Fonts\\BOD_CB.TTF\n",
      "C:\\Users\\HYUK\\AppData\\Local\\Microsoft\\Windows\\Fonts\\NotoSansKR-Bold.ttf\n",
      "C:\\Users\\HYUK\\AppData\\Local\\Microsoft\\Windows\\Fonts\\News706ItalicBT.ttf\n",
      "C:\\Windows\\Fonts\\phagspab.ttf\n",
      "C:\\Windows\\Fonts\\MTCORSVA.TTF\n",
      "C:\\Windows\\Fonts\\CALISTI.TTF\n",
      "C:\\Windows\\Fonts\\gadugi.ttf\n",
      "C:\\Windows\\Fonts\\TCCEB.TTF\n",
      "C:\\Windows\\Fonts\\TCCM____.TTF\n",
      "C:\\Windows\\Fonts\\PERB____.TTF\n",
      "C:\\Windows\\Fonts\\segoeuii.ttf\n",
      "C:\\Windows\\Fonts\\DejaVuSansMono-BoldOblique_0.ttf\n",
      "C:\\Windows\\Fonts\\BOOKOSI.TTF\n",
      "C:\\Windows\\Fonts\\FRABKIT.TTF\n",
      "C:\\Windows\\Fonts\\ENGR.TTF\n",
      "C:\\Windows\\Fonts\\MOD20.TTF\n",
      "C:\\Windows\\Fonts\\COPRGTL.TTF\n",
      "C:\\Windows\\Fonts\\georgiab.ttf\n",
      "C:\\Windows\\Fonts\\HANDotumB.ttf\n",
      "C:\\Windows\\Fonts\\MSUIGHUR.TTF\n",
      "C:\\Windows\\Fonts\\seguibli.ttf\n",
      "C:\\Windows\\Fonts\\ELEPHNT.TTF\n",
      "C:\\Windows\\Fonts\\HANBatangB.ttf\n",
      "C:\\Users\\HYUK\\AppData\\Local\\Microsoft\\Windows\\Fonts\\IBMPlexMono-SemiBoldItalic.ttf\n",
      "C:\\Windows\\Fonts\\monbaiti.ttf\n",
      "C:\\Windows\\Fonts\\LEELAWDB.TTF\n",
      "C:\\Windows\\Fonts\\LSANSD.TTF\n",
      "C:\\Users\\HYUK\\AppData\\Local\\Microsoft\\Windows\\Fonts\\NotoSansKR-Regular.ttf\n",
      "C:\\Windows\\Fonts\\LeelawUI.ttf\n",
      "C:\\Windows\\Fonts\\DUBAI-LIGHT.TTF\n",
      "C:\\Windows\\Fonts\\consolaz.ttf\n",
      "C:\\Windows\\Fonts\\BELLB.TTF\n",
      "C:\\Windows\\Fonts\\HANBatangExtB.ttf\n",
      "C:\\Windows\\Fonts\\cambriaz.ttf\n",
      "C:\\Windows\\Fonts\\ariali.ttf\n",
      "C:\\Windows\\Fonts\\GARA.TTF\n",
      "C:\\Windows\\Fonts\\phagspa.ttf\n",
      "C:\\Windows\\Fonts\\PARCHM.TTF\n",
      "C:\\Windows\\Fonts\\TCB_____.TTF\n",
      "C:\\Windows\\Fonts\\BOOKOSB.TTF\n",
      "C:\\Windows\\Fonts\\himalaya.ttf\n",
      "C:\\Windows\\Fonts\\georgiai.ttf\n",
      "C:\\Windows\\Fonts\\LBRITE.TTF\n",
      "C:\\Windows\\Fonts\\Gabriola.ttf\n",
      "C:\\Windows\\Fonts\\BOOKOS.TTF\n",
      "C:\\Windows\\Fonts\\H2PORM.TTF\n",
      "C:\\Windows\\Fonts\\Hancom Gothic Bold.ttf\n",
      "C:\\Windows\\Fonts\\CALIFI.TTF\n",
      "C:\\Windows\\Fonts\\calibril.ttf\n",
      "C:\\Windows\\Fonts\\HTOWERTI.TTF\n",
      "C:\\Windows\\Fonts\\HancomHoonminjeongeumH.ttf\n",
      "C:\\Windows\\Fonts\\IMPRISHA.TTF\n",
      "C:\\Windows\\Fonts\\GILBI___.TTF\n",
      "C:\\Windows\\Fonts\\HancomUljuBangudaePetroglyph.ttf\n",
      "C:\\Windows\\Fonts\\segoepr.ttf\n",
      "C:\\Windows\\Fonts\\mingliub.ttc\n",
      "C:\\Windows\\Fonts\\CascadiaMono.ttf\n",
      "C:\\Windows\\Fonts\\LeelUIsl.ttf\n",
      "C:\\Windows\\Fonts\\DUBAI-REGULAR.TTF\n",
      "C:\\Windows\\Fonts\\georgiaz.ttf\n",
      "C:\\Windows\\Fonts\\ANTQUAB.TTF\n",
      "C:\\Windows\\Fonts\\calibri.ttf\n",
      "C:\\Windows\\Fonts\\GOUDOS.TTF\n",
      "C:\\Windows\\Fonts\\VINERITC.TTF\n",
      "C:\\Windows\\Fonts\\HARLOWSI.TTF\n",
      "C:\\Windows\\Fonts\\KUNSTLER.TTF\n",
      "C:\\Users\\HYUK\\AppData\\Local\\Microsoft\\Windows\\Fonts\\HANCooljazzM.ttf\n",
      "C:\\Windows\\Fonts\\COOPBL.TTF\n",
      "C:\\Windows\\Fonts\\javatext.ttf\n",
      "C:\\Windows\\Fonts\\LSANS.TTF\n",
      "C:\\Windows\\Fonts\\calibrili.ttf\n",
      "C:\\Windows\\Fonts\\l_10646.ttf\n",
      "C:\\Windows\\Fonts\\GOUDOSI.TTF\n",
      "C:\\Windows\\Fonts\\comicz.ttf\n",
      "C:\\Windows\\Fonts\\seguisli.ttf\n",
      "C:\\Windows\\Fonts\\consolab.ttf\n",
      "C:\\Windows\\Fonts\\simsun.ttc\n",
      "C:\\Users\\HYUK\\AppData\\Local\\Microsoft\\Windows\\Fonts\\News706BoldBT.ttf\n",
      "C:\\Windows\\Fonts\\H2GPRM.TTF\n",
      "C:\\Windows\\Fonts\\palab.ttf\n",
      "C:\\Windows\\Fonts\\ALGER.TTF\n",
      "C:\\Windows\\Fonts\\BRLNSR.TTF\n",
      "C:\\Windows\\Fonts\\msjh.ttc\n",
      "C:\\Windows\\Fonts\\MalangmalangR.ttf\n",
      "C:\\Windows\\Fonts\\BOD_I.TTF\n",
      "C:\\Windows\\Fonts\\SNAP____.TTF\n",
      "C:\\Windows\\Fonts\\cambria.ttc\n",
      "C:\\Windows\\Fonts\\PERI____.TTF\n",
      "C:\\Windows\\Fonts\\BRADHITC.TTF\n",
      "C:\\Windows\\Fonts\\SegoeIcons.ttf\n",
      "C:\\Windows\\Fonts\\CALISTB.TTF\n",
      "C:\\Windows\\Fonts\\TCBI____.TTF\n",
      "C:\\Windows\\Fonts\\segoeuisl.ttf\n",
      "C:\\Windows\\Fonts\\LFAXI.TTF\n",
      "C:\\Users\\HYUK\\AppData\\Local\\Microsoft\\Windows\\Fonts\\HANCooljazzB.ttf\n",
      "C:\\Windows\\Fonts\\YuGothL.ttc\n",
      "C:\\Windows\\Fonts\\BOD_BI.TTF\n",
      "C:\\Windows\\Fonts\\palabi.ttf\n",
      "C:\\Windows\\Fonts\\ONYX.TTF\n",
      "C:\\Windows\\Fonts\\BOD_BLAI.TTF\n",
      "C:\\Windows\\Fonts\\calibrii.ttf\n",
      "C:\\Windows\\Fonts\\ARLRDBD.TTF\n",
      "C:\\Windows\\Fonts\\corbelz.ttf\n",
      "C:\\Users\\HYUK\\AppData\\Local\\Microsoft\\Windows\\Fonts\\경기천년제목_Bold.ttf\n",
      "C:\\Windows\\Fonts\\batang.ttc\n",
      "C:\\Windows\\Fonts\\courbd.ttf\n",
      "C:\\Windows\\Fonts\\BRLNSB.TTF\n",
      "C:\\Windows\\Fonts\\ntailu.ttf\n",
      "C:\\Windows\\Fonts\\GOTHICBI.TTF\n",
      "C:\\Windows\\Fonts\\AGENCYR.TTF\n",
      "C:\\Users\\HYUK\\AppData\\Local\\Microsoft\\Windows\\Fonts\\IBMPlexMono-MediumItalic.ttf\n",
      "C:\\Windows\\Fonts\\FRADM.TTF\n",
      "C:\\Windows\\Fonts\\seguisbi.ttf\n",
      "C:\\Windows\\Fonts\\georgia.ttf\n",
      "C:\\Windows\\Fonts\\LSANSI.TTF\n",
      "C:\\Windows\\Fonts\\HMKMRHD.TTF\n",
      "C:\\Windows\\Fonts\\GILC____.TTF\n",
      "C:\\Windows\\Fonts\\ROCKI.TTF\n",
      "C:\\Windows\\Fonts\\HTOWERT.TTF\n",
      "C:\\Windows\\Fonts\\HMFMPYUN.TTF\n",
      "C:\\Windows\\Fonts\\Hancom Gothic Regular.ttf\n",
      "C:\\Users\\HYUK\\AppData\\Local\\Microsoft\\Windows\\Fonts\\경기천년제목V_Bold.ttf\n",
      "C:\\Windows\\Fonts\\gulim.ttc\n",
      "C:\\Windows\\Fonts\\DejaVuSansMono_0.ttf\n",
      "C:\\Windows\\Fonts\\msyi.ttf\n",
      "C:\\Windows\\Fonts\\symbol.ttf\n",
      "C:\\Windows\\Fonts\\mvboli.ttf\n",
      "C:\\Windows\\Fonts\\HANDotumExt.ttf\n",
      "C:\\Windows\\Fonts\\TEMPSITC.TTF\n",
      "C:\\Windows\\Fonts\\Candarab.ttf\n",
      "C:\\Windows\\Fonts\\HANWing2.ttf\n",
      "C:\\Windows\\Fonts\\segoeuib.ttf\n",
      "C:\\Windows\\Fonts\\SimsunExtG.ttf\n",
      "C:\\Windows\\Fonts\\GOUDYSTO.TTF\n",
      "C:\\Windows\\Fonts\\BOD_PSTC.TTF\n",
      "C:\\Windows\\Fonts\\H2MJRE.TTF\n",
      "C:\\Windows\\Fonts\\consola.ttf\n",
      "C:\\Windows\\Fonts\\msyh.ttc\n",
      "C:\\Windows\\Fonts\\arial.ttf\n",
      "C:\\Windows\\Fonts\\Candara.ttf\n",
      "C:\\Windows\\Fonts\\HANDotum.ttf\n",
      "C:\\Windows\\Fonts\\FRAHVIT.TTF\n",
      "C:\\Windows\\Fonts\\DUBAI-BOLD.TTF\n",
      "C:\\Windows\\Fonts\\H2PORL.TTF\n",
      "C:\\Windows\\Fonts\\TCM_____.TTF\n",
      "C:\\Windows\\Fonts\\timesbi.ttf\n",
      "C:\\Windows\\Fonts\\arialbi.ttf\n",
      "C:\\Windows\\Fonts\\SCRIPTBL.TTF\n",
      "C:\\Windows\\Fonts\\H2SA1M.TTF\n",
      "C:\\Windows\\Fonts\\BRUSHSCI.TTF\n",
      "C:\\Windows\\Fonts\\FRAMDCN.TTF\n",
      "C:\\Windows\\Fonts\\PERBI___.TTF\n",
      "C:\\Windows\\Fonts\\CENSCBK.TTF\n",
      "C:\\Windows\\Fonts\\COLONNA.TTF\n",
      "C:\\Users\\HYUK\\AppData\\Local\\Microsoft\\Windows\\Fonts\\IBMPlexMono-BoldItalic.ttf\n",
      "C:\\Windows\\Fonts\\WINGDNG3.TTF\n",
      "C:\\Windows\\Fonts\\segoeui.ttf\n",
      "C:\\Windows\\Fonts\\FELIXTI.TTF\n",
      "C:\\Users\\HYUK\\AppData\\Local\\Microsoft\\Windows\\Fonts\\NotoSansKR-Light.ttf\n",
      "C:\\Windows\\Fonts\\LFAX.TTF\n",
      "C:\\Windows\\Fonts\\SegUIVar.ttf\n",
      "C:\\Windows\\Fonts\\SCHLBKI.TTF\n",
      "C:\\Windows\\Fonts\\H2HDRM.TTF\n",
      "C:\\Windows\\Fonts\\mmrtext.ttf\n",
      "C:\\Windows\\Fonts\\trebucbd.ttf\n",
      "C:\\Windows\\Fonts\\LFAXD.TTF\n",
      "C:\\Windows\\Fonts\\LSANSDI.TTF\n",
      "C:\\Windows\\Fonts\\OUTLOOK.TTF\n",
      "C:\\Windows\\Fonts\\FTLTLT.TTF\n",
      "C:\\Windows\\Fonts\\MISTRAL.TTF\n",
      "C:\\Windows\\Fonts\\msgothic.ttc\n",
      "C:\\Windows\\Fonts\\FRAHV.TTF\n",
      "C:\\Windows\\Fonts\\LHANDW.TTF\n",
      "C:\\Windows\\Fonts\\ERASDEMI.TTF\n",
      "C:\\Windows\\Fonts\\HancomEQN.ttf\n",
      "C:\\Windows\\Fonts\\BROADW.TTF\n",
      "C:\\Windows\\Fonts\\GLECB.TTF\n",
      "C:\\Windows\\Fonts\\segoeuiz.ttf\n",
      "C:\\Windows\\Fonts\\NGULIM.TTF\n",
      "C:\\Windows\\Fonts\\LTYPE.TTF\n",
      "C:\\Users\\HYUK\\AppData\\Local\\Microsoft\\Windows\\Fonts\\GodoM.otf\n",
      "C:\\Windows\\Fonts\\corbeli.ttf\n",
      "C:\\Windows\\Fonts\\LATINWD.TTF\n",
      "C:\\Windows\\Fonts\\STENCIL.TTF\n",
      "C:\\Windows\\Fonts\\HYHWPEQ.TTF\n",
      "C:\\Windows\\Fonts\\constani.ttf\n",
      "C:\\Windows\\Fonts\\HANBatang.ttf\n",
      "C:\\Windows\\Fonts\\MTEXTRA.TTF\n",
      "C:\\Windows\\Fonts\\CALIFB.TTF\n",
      "C:\\Windows\\Fonts\\impact.ttf\n",
      "C:\\Users\\HYUK\\AppData\\Local\\Microsoft\\Windows\\Fonts\\NotoSansKR-ExtraLight.ttf\n",
      "C:\\Windows\\Fonts\\BRITANIC.TTF\n",
      "C:\\Windows\\Fonts\\taileb.ttf\n",
      "C:\\Windows\\Fonts\\GOUDOSB.TTF\n",
      "C:\\Users\\HYUK\\AppData\\Local\\Microsoft\\Windows\\Fonts\\News706BTBold.ttf\n",
      "C:\\Windows\\Fonts\\NIAGSOL.TTF\n",
      "C:\\Windows\\Fonts\\ERASBD.TTF\n",
      "C:\\Windows\\Fonts\\FRSCRIPT.TTF\n",
      "C:\\Windows\\Fonts\\BELLI.TTF\n",
      "C:\\Users\\HYUK\\AppData\\Local\\Microsoft\\Windows\\Fonts\\NotoSansKR-Black.ttf\n",
      "C:\\Windows\\Fonts\\taile.ttf\n",
      "C:\\Windows\\Fonts\\LBRITED.TTF\n",
      "C:\\Windows\\Fonts\\BOD_CI.TTF\n",
      "C:\\Windows\\Fonts\\ebrima.ttf\n",
      "C:\\Windows\\Fonts\\ANTQUAI.TTF\n",
      "C:\\Windows\\Fonts\\CHILLER.TTF\n",
      "C:\\Windows\\Fonts\\wingding.ttf\n",
      "C:\\Windows\\Fonts\\HMFMOLD.TTF\n",
      "C:\\Windows\\Fonts\\PERTILI.TTF\n",
      "C:\\Windows\\Fonts\\ELEPHNTI.TTF\n",
      "C:\\Windows\\Fonts\\malgunsl.ttf\n",
      "C:\\Users\\HYUK\\AppData\\Local\\Microsoft\\Windows\\Fonts\\IBMPlexMono-ExtraLightItalic.ttf\n",
      "C:\\Windows\\Fonts\\ROCC____.TTF\n",
      "C:\\Windows\\Fonts\\times.ttf\n",
      "C:\\Windows\\Fonts\\ITCKRIST.TTF\n",
      "C:\\Users\\HYUK\\AppData\\Local\\Microsoft\\Windows\\Fonts\\IBMPlexMono-Regular.ttf\n",
      "C:\\Windows\\Fonts\\simsunb.ttf\n",
      "C:\\Windows\\Fonts\\NirmalaS.ttf\n",
      "C:\\Windows\\Fonts\\LTYPEBO.TTF\n",
      "C:\\Windows\\Fonts\\YuGothM.ttc\n",
      "C:\\Windows\\Fonts\\GILI____.TTF\n",
      "C:\\Windows\\Fonts\\H2GSRB.TTF\n",
      "C:\\Windows\\Fonts\\FRADMCN.TTF\n"
     ]
    }
   ],
   "source": [
    "import matplotlib.font_manager as fm\n",
    "\n",
    "# 설치된 폰트 확인\n",
    "for font in fm.findSystemFonts(fontpaths=None, fontext='ttf'):\n",
    "    print(font)\n"
   ]
  },
  {
   "cell_type": "code",
   "execution_count": 6,
   "metadata": {},
   "outputs": [],
   "source": [
    "from matplotlib import rc\n",
    "\n",
    "# rc('font', family=fm.FontProperties(fname='C:/Windows/Fonts/malgun.ttf').get_name())\n",
    "rc('font', family=fm.FontProperties(fname='C:/Users/HYUK/AppData/Local/Microsoft/Windows/Fonts/NotoSansKR-Thin.ttf').get_name())\n"
   ]
  },
  {
   "cell_type": "code",
   "execution_count": 7,
   "metadata": {},
   "outputs": [
    {
     "name": "stderr",
     "output_type": "stream",
     "text": [
      "C:\\Users\\HYUK\\AppData\\Local\\Temp\\ipykernel_13876\\3091176422.py:7: FutureWarning: 'Q' is deprecated and will be removed in a future version, please use 'QE' instead.\n",
      "  '변환': pd.date_range(start='2000-01-01', periods=20, freq='Q').strftime('%Y/Q%q'),\n"
     ]
    },
    {
     "data": {
      "application/vnd.plotly.v1+json": {
       "config": {
        "plotlyServerURL": "https://plot.ly"
       },
       "data": [
        {
         "marker": {
          "color": "skyblue"
         },
         "name": "GDP",
         "type": "bar",
         "x": [
          "2000-03-31 00:00:00",
          "2001-06-30 00:00:00",
          "2002-09-30 00:00:00",
          "2003-12-31 00:00:00"
         ],
         "y": [
          9629,
          51141,
          95975,
          130954
         ],
         "yaxis": "y"
        },
        {
         "line": {
          "color": "red",
          "dash": "dash"
         },
         "marker": {
          "size": 10
         },
         "mode": "lines+markers",
         "name": "Year-over-Year Change",
         "type": "scatter",
         "x": [
          "2000-03-31 00:00:00",
          "2001-06-30 00:00:00",
          "2002-09-30 00:00:00",
          "2003-12-31 00:00:00"
         ],
         "y": [
          1.538352620825493,
          1.329708889098428,
          1.4759464638628548,
          1.4725868898466252
         ],
         "yaxis": "y2"
        }
       ],
       "frames": [
        {
         "data": [
          {
           "marker": {
            "color": "skyblue"
           },
           "name": "GDP",
           "type": "bar",
           "x": [
            "2000-03-31 00:00:00"
           ],
           "y": [
            9629
           ],
           "yaxis": "y"
          },
          {
           "line": {
            "color": "red",
            "dash": "dash"
           },
           "marker": {
            "size": 10
           },
           "mode": "lines+markers",
           "name": "Year-over-Year Change",
           "type": "scatter",
           "x": [
            "2000-03-31 00:00:00"
           ],
           "y": [
            1.538352620825493
           ],
           "yaxis": "y2"
          }
         ],
         "name": "Frame 0"
        },
        {
         "data": [
          {
           "marker": {
            "color": "skyblue"
           },
           "name": "GDP",
           "type": "bar",
           "x": [
            "2000-03-31 00:00:00",
            "2001-06-30 00:00:00"
           ],
           "y": [
            9629,
            51141
           ],
           "yaxis": "y"
          },
          {
           "line": {
            "color": "red",
            "dash": "dash"
           },
           "marker": {
            "size": 10
           },
           "mode": "lines+markers",
           "name": "Year-over-Year Change",
           "type": "scatter",
           "x": [
            "2000-03-31 00:00:00",
            "2001-06-30 00:00:00"
           ],
           "y": [
            1.538352620825493,
            1.329708889098428
           ],
           "yaxis": "y2"
          }
         ],
         "name": "Frame 1"
        },
        {
         "data": [
          {
           "marker": {
            "color": "skyblue"
           },
           "name": "GDP",
           "type": "bar",
           "x": [
            "2000-03-31 00:00:00",
            "2001-06-30 00:00:00",
            "2002-09-30 00:00:00"
           ],
           "y": [
            9629,
            51141,
            95975
           ],
           "yaxis": "y"
          },
          {
           "line": {
            "color": "red",
            "dash": "dash"
           },
           "marker": {
            "size": 10
           },
           "mode": "lines+markers",
           "name": "Year-over-Year Change",
           "type": "scatter",
           "x": [
            "2000-03-31 00:00:00",
            "2001-06-30 00:00:00",
            "2002-09-30 00:00:00"
           ],
           "y": [
            1.538352620825493,
            1.329708889098428,
            1.4759464638628548
           ],
           "yaxis": "y2"
          }
         ],
         "name": "Frame 2"
        },
        {
         "data": [
          {
           "marker": {
            "color": "skyblue"
           },
           "name": "GDP",
           "type": "bar",
           "x": [
            "2000-03-31 00:00:00",
            "2001-06-30 00:00:00",
            "2002-09-30 00:00:00",
            "2003-12-31 00:00:00"
           ],
           "y": [
            9629,
            51141,
            95975,
            130954
           ],
           "yaxis": "y"
          },
          {
           "line": {
            "color": "red",
            "dash": "dash"
           },
           "marker": {
            "size": 10
           },
           "mode": "lines+markers",
           "name": "Year-over-Year Change",
           "type": "scatter",
           "x": [
            "2000-03-31 00:00:00",
            "2001-06-30 00:00:00",
            "2002-09-30 00:00:00",
            "2003-12-31 00:00:00"
           ],
           "y": [
            1.538352620825493,
            1.329708889098428,
            1.4759464638628548,
            1.4725868898466252
           ],
           "yaxis": "y2"
          }
         ],
         "name": "Frame 3"
        }
       ],
       "layout": {
        "legend": {
         "x": 0.1,
         "y": 1.1
        },
        "template": {
         "data": {
          "bar": [
           {
            "error_x": {
             "color": "#2a3f5f"
            },
            "error_y": {
             "color": "#2a3f5f"
            },
            "marker": {
             "line": {
              "color": "#E5ECF6",
              "width": 0.5
             },
             "pattern": {
              "fillmode": "overlay",
              "size": 10,
              "solidity": 0.2
             }
            },
            "type": "bar"
           }
          ],
          "barpolar": [
           {
            "marker": {
             "line": {
              "color": "#E5ECF6",
              "width": 0.5
             },
             "pattern": {
              "fillmode": "overlay",
              "size": 10,
              "solidity": 0.2
             }
            },
            "type": "barpolar"
           }
          ],
          "carpet": [
           {
            "aaxis": {
             "endlinecolor": "#2a3f5f",
             "gridcolor": "white",
             "linecolor": "white",
             "minorgridcolor": "white",
             "startlinecolor": "#2a3f5f"
            },
            "baxis": {
             "endlinecolor": "#2a3f5f",
             "gridcolor": "white",
             "linecolor": "white",
             "minorgridcolor": "white",
             "startlinecolor": "#2a3f5f"
            },
            "type": "carpet"
           }
          ],
          "choropleth": [
           {
            "colorbar": {
             "outlinewidth": 0,
             "ticks": ""
            },
            "type": "choropleth"
           }
          ],
          "contour": [
           {
            "colorbar": {
             "outlinewidth": 0,
             "ticks": ""
            },
            "colorscale": [
             [
              0,
              "#0d0887"
             ],
             [
              0.1111111111111111,
              "#46039f"
             ],
             [
              0.2222222222222222,
              "#7201a8"
             ],
             [
              0.3333333333333333,
              "#9c179e"
             ],
             [
              0.4444444444444444,
              "#bd3786"
             ],
             [
              0.5555555555555556,
              "#d8576b"
             ],
             [
              0.6666666666666666,
              "#ed7953"
             ],
             [
              0.7777777777777778,
              "#fb9f3a"
             ],
             [
              0.8888888888888888,
              "#fdca26"
             ],
             [
              1,
              "#f0f921"
             ]
            ],
            "type": "contour"
           }
          ],
          "contourcarpet": [
           {
            "colorbar": {
             "outlinewidth": 0,
             "ticks": ""
            },
            "type": "contourcarpet"
           }
          ],
          "heatmap": [
           {
            "colorbar": {
             "outlinewidth": 0,
             "ticks": ""
            },
            "colorscale": [
             [
              0,
              "#0d0887"
             ],
             [
              0.1111111111111111,
              "#46039f"
             ],
             [
              0.2222222222222222,
              "#7201a8"
             ],
             [
              0.3333333333333333,
              "#9c179e"
             ],
             [
              0.4444444444444444,
              "#bd3786"
             ],
             [
              0.5555555555555556,
              "#d8576b"
             ],
             [
              0.6666666666666666,
              "#ed7953"
             ],
             [
              0.7777777777777778,
              "#fb9f3a"
             ],
             [
              0.8888888888888888,
              "#fdca26"
             ],
             [
              1,
              "#f0f921"
             ]
            ],
            "type": "heatmap"
           }
          ],
          "heatmapgl": [
           {
            "colorbar": {
             "outlinewidth": 0,
             "ticks": ""
            },
            "colorscale": [
             [
              0,
              "#0d0887"
             ],
             [
              0.1111111111111111,
              "#46039f"
             ],
             [
              0.2222222222222222,
              "#7201a8"
             ],
             [
              0.3333333333333333,
              "#9c179e"
             ],
             [
              0.4444444444444444,
              "#bd3786"
             ],
             [
              0.5555555555555556,
              "#d8576b"
             ],
             [
              0.6666666666666666,
              "#ed7953"
             ],
             [
              0.7777777777777778,
              "#fb9f3a"
             ],
             [
              0.8888888888888888,
              "#fdca26"
             ],
             [
              1,
              "#f0f921"
             ]
            ],
            "type": "heatmapgl"
           }
          ],
          "histogram": [
           {
            "marker": {
             "pattern": {
              "fillmode": "overlay",
              "size": 10,
              "solidity": 0.2
             }
            },
            "type": "histogram"
           }
          ],
          "histogram2d": [
           {
            "colorbar": {
             "outlinewidth": 0,
             "ticks": ""
            },
            "colorscale": [
             [
              0,
              "#0d0887"
             ],
             [
              0.1111111111111111,
              "#46039f"
             ],
             [
              0.2222222222222222,
              "#7201a8"
             ],
             [
              0.3333333333333333,
              "#9c179e"
             ],
             [
              0.4444444444444444,
              "#bd3786"
             ],
             [
              0.5555555555555556,
              "#d8576b"
             ],
             [
              0.6666666666666666,
              "#ed7953"
             ],
             [
              0.7777777777777778,
              "#fb9f3a"
             ],
             [
              0.8888888888888888,
              "#fdca26"
             ],
             [
              1,
              "#f0f921"
             ]
            ],
            "type": "histogram2d"
           }
          ],
          "histogram2dcontour": [
           {
            "colorbar": {
             "outlinewidth": 0,
             "ticks": ""
            },
            "colorscale": [
             [
              0,
              "#0d0887"
             ],
             [
              0.1111111111111111,
              "#46039f"
             ],
             [
              0.2222222222222222,
              "#7201a8"
             ],
             [
              0.3333333333333333,
              "#9c179e"
             ],
             [
              0.4444444444444444,
              "#bd3786"
             ],
             [
              0.5555555555555556,
              "#d8576b"
             ],
             [
              0.6666666666666666,
              "#ed7953"
             ],
             [
              0.7777777777777778,
              "#fb9f3a"
             ],
             [
              0.8888888888888888,
              "#fdca26"
             ],
             [
              1,
              "#f0f921"
             ]
            ],
            "type": "histogram2dcontour"
           }
          ],
          "mesh3d": [
           {
            "colorbar": {
             "outlinewidth": 0,
             "ticks": ""
            },
            "type": "mesh3d"
           }
          ],
          "parcoords": [
           {
            "line": {
             "colorbar": {
              "outlinewidth": 0,
              "ticks": ""
             }
            },
            "type": "parcoords"
           }
          ],
          "pie": [
           {
            "automargin": true,
            "type": "pie"
           }
          ],
          "scatter": [
           {
            "fillpattern": {
             "fillmode": "overlay",
             "size": 10,
             "solidity": 0.2
            },
            "type": "scatter"
           }
          ],
          "scatter3d": [
           {
            "line": {
             "colorbar": {
              "outlinewidth": 0,
              "ticks": ""
             }
            },
            "marker": {
             "colorbar": {
              "outlinewidth": 0,
              "ticks": ""
             }
            },
            "type": "scatter3d"
           }
          ],
          "scattercarpet": [
           {
            "marker": {
             "colorbar": {
              "outlinewidth": 0,
              "ticks": ""
             }
            },
            "type": "scattercarpet"
           }
          ],
          "scattergeo": [
           {
            "marker": {
             "colorbar": {
              "outlinewidth": 0,
              "ticks": ""
             }
            },
            "type": "scattergeo"
           }
          ],
          "scattergl": [
           {
            "marker": {
             "colorbar": {
              "outlinewidth": 0,
              "ticks": ""
             }
            },
            "type": "scattergl"
           }
          ],
          "scattermapbox": [
           {
            "marker": {
             "colorbar": {
              "outlinewidth": 0,
              "ticks": ""
             }
            },
            "type": "scattermapbox"
           }
          ],
          "scatterpolar": [
           {
            "marker": {
             "colorbar": {
              "outlinewidth": 0,
              "ticks": ""
             }
            },
            "type": "scatterpolar"
           }
          ],
          "scatterpolargl": [
           {
            "marker": {
             "colorbar": {
              "outlinewidth": 0,
              "ticks": ""
             }
            },
            "type": "scatterpolargl"
           }
          ],
          "scatterternary": [
           {
            "marker": {
             "colorbar": {
              "outlinewidth": 0,
              "ticks": ""
             }
            },
            "type": "scatterternary"
           }
          ],
          "surface": [
           {
            "colorbar": {
             "outlinewidth": 0,
             "ticks": ""
            },
            "colorscale": [
             [
              0,
              "#0d0887"
             ],
             [
              0.1111111111111111,
              "#46039f"
             ],
             [
              0.2222222222222222,
              "#7201a8"
             ],
             [
              0.3333333333333333,
              "#9c179e"
             ],
             [
              0.4444444444444444,
              "#bd3786"
             ],
             [
              0.5555555555555556,
              "#d8576b"
             ],
             [
              0.6666666666666666,
              "#ed7953"
             ],
             [
              0.7777777777777778,
              "#fb9f3a"
             ],
             [
              0.8888888888888888,
              "#fdca26"
             ],
             [
              1,
              "#f0f921"
             ]
            ],
            "type": "surface"
           }
          ],
          "table": [
           {
            "cells": {
             "fill": {
              "color": "#EBF0F8"
             },
             "line": {
              "color": "white"
             }
            },
            "header": {
             "fill": {
              "color": "#C8D4E3"
             },
             "line": {
              "color": "white"
             }
            },
            "type": "table"
           }
          ]
         },
         "layout": {
          "annotationdefaults": {
           "arrowcolor": "#2a3f5f",
           "arrowhead": 0,
           "arrowwidth": 1
          },
          "autotypenumbers": "strict",
          "coloraxis": {
           "colorbar": {
            "outlinewidth": 0,
            "ticks": ""
           }
          },
          "colorscale": {
           "diverging": [
            [
             0,
             "#8e0152"
            ],
            [
             0.1,
             "#c51b7d"
            ],
            [
             0.2,
             "#de77ae"
            ],
            [
             0.3,
             "#f1b6da"
            ],
            [
             0.4,
             "#fde0ef"
            ],
            [
             0.5,
             "#f7f7f7"
            ],
            [
             0.6,
             "#e6f5d0"
            ],
            [
             0.7,
             "#b8e186"
            ],
            [
             0.8,
             "#7fbc41"
            ],
            [
             0.9,
             "#4d9221"
            ],
            [
             1,
             "#276419"
            ]
           ],
           "sequential": [
            [
             0,
             "#0d0887"
            ],
            [
             0.1111111111111111,
             "#46039f"
            ],
            [
             0.2222222222222222,
             "#7201a8"
            ],
            [
             0.3333333333333333,
             "#9c179e"
            ],
            [
             0.4444444444444444,
             "#bd3786"
            ],
            [
             0.5555555555555556,
             "#d8576b"
            ],
            [
             0.6666666666666666,
             "#ed7953"
            ],
            [
             0.7777777777777778,
             "#fb9f3a"
            ],
            [
             0.8888888888888888,
             "#fdca26"
            ],
            [
             1,
             "#f0f921"
            ]
           ],
           "sequentialminus": [
            [
             0,
             "#0d0887"
            ],
            [
             0.1111111111111111,
             "#46039f"
            ],
            [
             0.2222222222222222,
             "#7201a8"
            ],
            [
             0.3333333333333333,
             "#9c179e"
            ],
            [
             0.4444444444444444,
             "#bd3786"
            ],
            [
             0.5555555555555556,
             "#d8576b"
            ],
            [
             0.6666666666666666,
             "#ed7953"
            ],
            [
             0.7777777777777778,
             "#fb9f3a"
            ],
            [
             0.8888888888888888,
             "#fdca26"
            ],
            [
             1,
             "#f0f921"
            ]
           ]
          },
          "colorway": [
           "#636efa",
           "#EF553B",
           "#00cc96",
           "#ab63fa",
           "#FFA15A",
           "#19d3f3",
           "#FF6692",
           "#B6E880",
           "#FF97FF",
           "#FECB52"
          ],
          "font": {
           "color": "#2a3f5f"
          },
          "geo": {
           "bgcolor": "white",
           "lakecolor": "white",
           "landcolor": "#E5ECF6",
           "showlakes": true,
           "showland": true,
           "subunitcolor": "white"
          },
          "hoverlabel": {
           "align": "left"
          },
          "hovermode": "closest",
          "mapbox": {
           "style": "light"
          },
          "paper_bgcolor": "white",
          "plot_bgcolor": "#E5ECF6",
          "polar": {
           "angularaxis": {
            "gridcolor": "white",
            "linecolor": "white",
            "ticks": ""
           },
           "bgcolor": "#E5ECF6",
           "radialaxis": {
            "gridcolor": "white",
            "linecolor": "white",
            "ticks": ""
           }
          },
          "scene": {
           "xaxis": {
            "backgroundcolor": "#E5ECF6",
            "gridcolor": "white",
            "gridwidth": 2,
            "linecolor": "white",
            "showbackground": true,
            "ticks": "",
            "zerolinecolor": "white"
           },
           "yaxis": {
            "backgroundcolor": "#E5ECF6",
            "gridcolor": "white",
            "gridwidth": 2,
            "linecolor": "white",
            "showbackground": true,
            "ticks": "",
            "zerolinecolor": "white"
           },
           "zaxis": {
            "backgroundcolor": "#E5ECF6",
            "gridcolor": "white",
            "gridwidth": 2,
            "linecolor": "white",
            "showbackground": true,
            "ticks": "",
            "zerolinecolor": "white"
           }
          },
          "shapedefaults": {
           "line": {
            "color": "#2a3f5f"
           }
          },
          "ternary": {
           "aaxis": {
            "gridcolor": "white",
            "linecolor": "white",
            "ticks": ""
           },
           "baxis": {
            "gridcolor": "white",
            "linecolor": "white",
            "ticks": ""
           },
           "bgcolor": "#E5ECF6",
           "caxis": {
            "gridcolor": "white",
            "linecolor": "white",
            "ticks": ""
           }
          },
          "title": {
           "x": 0.05
          },
          "xaxis": {
           "automargin": true,
           "gridcolor": "white",
           "linecolor": "white",
           "ticks": "",
           "title": {
            "standoff": 15
           },
           "zerolinecolor": "white",
           "zerolinewidth": 2
          },
          "yaxis": {
           "automargin": true,
           "gridcolor": "white",
           "linecolor": "white",
           "ticks": "",
           "title": {
            "standoff": 15
           },
           "zerolinecolor": "white",
           "zerolinewidth": 2
          }
         }
        },
        "title": {
         "text": "GDP 변화량 및 전기대비 증감률"
        },
        "updatemenus": [
         {
          "buttons": [
           {
            "args": [
             null,
             {
              "frame": {
               "duration": 500,
               "redraw": true
              },
              "fromcurrent": true
             }
            ],
            "label": "Play",
            "method": "animate"
           },
           {
            "args": [
             [
              null
             ],
             {
              "frame": {
               "duration": 0,
               "redraw": false
              },
              "mode": "immediate"
             }
            ],
            "label": "Pause",
            "method": "animate"
           }
          ],
          "showactive": false,
          "type": "buttons"
         }
        ],
        "xaxis": {
         "title": {
          "text": "날짜"
         }
        },
        "yaxis": {
         "side": "left",
         "tickfont": {
          "color": "blue"
         },
         "title": {
          "font": {
           "color": "blue"
          },
          "text": "GDP"
         }
        },
        "yaxis2": {
         "overlaying": "y",
         "rangemode": "tozero",
         "side": "right",
         "tickfont": {
          "color": "red"
         },
         "title": {
          "font": {
           "color": "red"
          },
          "text": "전기대비증감률"
         }
        }
       }
      }
     },
     "metadata": {},
     "output_type": "display_data"
    }
   ],
   "source": [
    "import plotly.graph_objects as go\n",
    "import pandas as pd\n",
    "import numpy as np\n",
    "\n",
    "# 예제 데이터 생성\n",
    "data = {\n",
    "    '변환': pd.date_range(start='2000-01-01', periods=20, freq='Q').strftime('%Y/Q%q'),\n",
    "    '원자료': np.cumsum(np.random.randint(5000, 10000, 20)),  # GDP 누적값\n",
    "    '전기대비증감률': np.random.uniform(0.5, 2.5, 20)  # 전기 대비 증감률 (0.5 ~ 2.5)\n",
    "}\n",
    "df = pd.DataFrame(data)\n",
    "\n",
    "# 5개마다 샘플링\n",
    "df_sampled = df.iloc[::5]\n",
    "\n",
    "# 애니메이션 데이터 생성\n",
    "frames = []\n",
    "for i in range(len(df_sampled)):\n",
    "    frame = go.Frame(\n",
    "        data=[\n",
    "            # 막대 그래프 (GDP)\n",
    "            go.Bar(\n",
    "                x=df_sampled['변환'][:i+1],\n",
    "                y=df_sampled['원자료'][:i+1],\n",
    "                name='GDP',\n",
    "                marker=dict(color='skyblue'),\n",
    "                yaxis='y1',  # 왼쪽 y축\n",
    "            ),\n",
    "            # 선 그래프 (전기대비증감률)\n",
    "            go.Scatter(\n",
    "                x=df_sampled['변환'][:i+1],\n",
    "                y=df_sampled['전기대비증감률'][:i+1],\n",
    "                name='Year-over-Year Change',\n",
    "                mode='lines+markers',\n",
    "                line=dict(color='red', dash='dash'),\n",
    "                marker=dict(size=10),\n",
    "                yaxis='y2',  # 오른쪽 y축\n",
    "            )\n",
    "        ],\n",
    "        name=f\"Frame {i}\"\n",
    "    )\n",
    "    frames.append(frame)\n",
    "\n",
    "# 기본 그래프 설정\n",
    "fig = go.Figure(\n",
    "    data=[\n",
    "        # 막대 그래프 (GDP)\n",
    "        go.Bar(\n",
    "            x=df_sampled['변환'],\n",
    "            y=df_sampled['원자료'],\n",
    "            name='GDP',\n",
    "            marker=dict(color='skyblue'),\n",
    "            yaxis='y1',  # 왼쪽 y축\n",
    "        ),\n",
    "        # 선 그래프 (전기대비증감률)\n",
    "        go.Scatter(\n",
    "            x=df_sampled['변환'],\n",
    "            y=df_sampled['전기대비증감률'],\n",
    "            name='Year-over-Year Change',\n",
    "            mode='lines+markers',\n",
    "            line=dict(color='red', dash='dash'),\n",
    "            marker=dict(size=10),\n",
    "            yaxis='y2',  # 오른쪽 y축\n",
    "        )\n",
    "    ],\n",
    "    layout=go.Layout(\n",
    "        title=\"GDP 변화량 및 전기대비 증감률\",\n",
    "        xaxis=dict(title=\"날짜\"),\n",
    "        yaxis=dict(\n",
    "            title=\"GDP\",\n",
    "            titlefont=dict(color=\"blue\"),\n",
    "            tickfont=dict(color=\"blue\"),\n",
    "            side=\"left\"\n",
    "        ),\n",
    "        yaxis2=dict(\n",
    "            title=\"전기대비증감률\",\n",
    "            overlaying='y',  # 기존 y축에 겹침\n",
    "            side=\"right\",\n",
    "            titlefont=dict(color=\"red\"),\n",
    "            tickfont=dict(color=\"red\"),\n",
    "            rangemode=\"tozero\"  # 축 범위가 0부터 시작\n",
    "        ),\n",
    "        legend=dict(x=0.1, y=1.1),\n",
    "    ),\n",
    "    frames=frames\n",
    ")\n",
    "\n",
    "# 애니메이션 설정 추가\n",
    "fig.update_layout(\n",
    "    updatemenus=[\n",
    "        dict(\n",
    "            type=\"buttons\",\n",
    "            showactive=False,\n",
    "            buttons=[\n",
    "                dict(\n",
    "                    label=\"Play\",\n",
    "                    method=\"animate\",\n",
    "                    args=[None, dict(frame=dict(duration=500, redraw=True), fromcurrent=True)]\n",
    "                ),\n",
    "                dict(\n",
    "                    label=\"Pause\",\n",
    "                    method=\"animate\",\n",
    "                    args=[[None], dict(frame=dict(duration=0, redraw=False), mode=\"immediate\")]\n",
    "                ),\n",
    "            ]\n",
    "        )\n",
    "    ]\n",
    ")\n",
    "\n",
    "# 애니메이션 표시\n",
    "fig.show()\n"
   ]
  }
 ],
 "metadata": {
  "kernelspec": {
   "display_name": "24_TSD_kdh",
   "language": "python",
   "name": "python3"
  },
  "language_info": {
   "codemirror_mode": {
    "name": "ipython",
    "version": 3
   },
   "file_extension": ".py",
   "mimetype": "text/x-python",
   "name": "python",
   "nbconvert_exporter": "python",
   "pygments_lexer": "ipython3",
   "version": "3.13.0"
  }
 },
 "nbformat": 4,
 "nbformat_minor": 2
}
