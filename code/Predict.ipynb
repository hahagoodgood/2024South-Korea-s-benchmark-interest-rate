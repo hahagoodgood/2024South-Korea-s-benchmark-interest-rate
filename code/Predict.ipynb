{
 "cells": [
  {
   "cell_type": "code",
   "execution_count": 2,
   "metadata": {},
   "outputs": [
    {
     "name": "stdout",
     "output_type": "stream",
     "text": [
      "['Predict.csv']\n"
     ]
    }
   ],
   "source": [
    "import os\n",
    "import pandas as pd\n",
    "\n",
    "# 폰트설정\n",
    "import matplotlib.font_manager as fm\n",
    "from matplotlib import rc\n",
    "\n",
    "rc('font', family=fm.FontProperties(fname='C:/Users/HYUK/AppData/Local/Microsoft/Windows/Fonts/NotoSansKR-Thin.ttf').get_name())\n",
    "\n",
    "\n",
    "dir_path = \"../predict_csv/\"\n",
    "\n",
    "# 해당 위치에 존재하는 파일들을 리스트로 반환하는 함수\n",
    "def get_file_list(directory):\n",
    "    file_list = []\n",
    "\n",
    "    # 디렉터리 내의 모든 항목에 대해 반복합니다.\n",
    "    for item in os.listdir(directory):\n",
    "        # 전체 경로를 생성합니다.\n",
    "        item_path = os.path.join(directory, item)\n",
    "\n",
    "        # 파일인 경우에만 리스트에 추가합니다.\n",
    "        if os.path.isfile(item_path):\n",
    "            file_list.append(item)\n",
    "\n",
    "    return file_list\n",
    "\n",
    "file_path = get_file_list(dir_path)\n",
    "print(file_path)\n",
    "\n",
    "def read_csv(dir_path : str, file_path : str, do_print : bool = True):\n",
    "    df = pd.read_csv(dir_path+file_path)\n",
    "    if do_print :\n",
    "        print(file_path,\"\\n\")\n",
    "        print(\"데이터 프레임 구조:\", df.shape,\"\\n\")\n",
    "        print(df.head())\n",
    "        print(\"\\n데이터 정보 :\\n\")\n",
    "        print(df.info())\n",
    "        print(\"\\nNan 값 존재 데이터\")\n",
    "        print(df[df.isnull().any(axis=1)])\n",
    "    return df\n",
    "\n",
    "def save_csv(dir_path : str, file_path : str,  df : pd.DataFrame ):\n",
    "    new_data_path = dir_path+file_path\n",
    "    \n",
    "    data_path_os = os.path.dirname(new_data_path)\n",
    "    if not os.path.exists(data_path_os):\n",
    "        os.makedirs(data_path_os)\n",
    "\n",
    "    \n",
    "    # 데이터 저장\n",
    "    df.to_csv(dir_path+file_path, index=False)"
   ]
  },
  {
   "cell_type": "code",
   "execution_count": 3,
   "metadata": {},
   "outputs": [
    {
     "name": "stdout",
     "output_type": "stream",
     "text": [
      "Predict.csv \n",
      "\n",
      "데이터 프레임 구조: (232, 7) \n",
      "\n",
      "   미국금리  실업률  기업대출  가계대출  주택매매가격지수_변동율  통화량_변동율  기준금리\n",
      "0  1.00  3.7   1.9   1.8          -0.8      0.6  3.75\n",
      "1  2.25  3.8   1.8   1.7          -0.3      0.6  3.25\n",
      "2  3.00  3.7   2.4   1.9           0.5      0.3  3.25\n",
      "3  3.25  3.8   1.8   1.5           0.8      1.1  3.25\n",
      "4  3.25  3.8   2.0   1.6           0.7      0.9  3.25\n",
      "\n",
      "데이터 정보 :\n",
      "\n",
      "<class 'pandas.core.frame.DataFrame'>\n",
      "RangeIndex: 232 entries, 0 to 231\n",
      "Data columns (total 7 columns):\n",
      " #   Column        Non-Null Count  Dtype  \n",
      "---  ------        --------------  -----  \n",
      " 0   미국금리          232 non-null    float64\n",
      " 1   실업률           232 non-null    float64\n",
      " 2   기업대출          232 non-null    float64\n",
      " 3   가계대출          232 non-null    float64\n",
      " 4   주택매매가격지수_변동율  232 non-null    float64\n",
      " 5   통화량_변동율       232 non-null    float64\n",
      " 6   기준금리          232 non-null    float64\n",
      "dtypes: float64(7)\n",
      "memory usage: 12.8 KB\n",
      "None\n",
      "\n",
      "Nan 값 존재 데이터\n",
      "Empty DataFrame\n",
      "Columns: [미국금리, 실업률, 기업대출, 가계대출, 주택매매가격지수_변동율, 통화량_변동율, 기준금리]\n",
      "Index: []\n"
     ]
    }
   ],
   "source": [
    "df = read_csv(dir_path,\"Predict.csv\")"
   ]
  },
  {
   "cell_type": "code",
   "execution_count": null,
   "metadata": {},
   "outputs": [],
   "source": []
  }
 ],
 "metadata": {
  "kernelspec": {
   "display_name": "24_TSD_kdh",
   "language": "python",
   "name": "python3"
  },
  "language_info": {
   "codemirror_mode": {
    "name": "ipython",
    "version": 3
   },
   "file_extension": ".py",
   "mimetype": "text/x-python",
   "name": "python",
   "nbconvert_exporter": "python",
   "pygments_lexer": "ipython3",
   "version": "3.13.0"
  }
 },
 "nbformat": 4,
 "nbformat_minor": 2
}
