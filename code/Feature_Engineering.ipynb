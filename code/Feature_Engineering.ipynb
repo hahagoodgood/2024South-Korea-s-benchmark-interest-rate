{
 "cells": [
  {
   "cell_type": "markdown",
   "id": "e93a45c4",
   "metadata": {},
   "source": [
    "## 파일 경로"
   ]
  },
  {
   "cell_type": "code",
   "execution_count": 1,
   "id": "919854c8-09c7-40c2-b1ac-449ea7da7e3d",
   "metadata": {},
   "outputs": [
    {
     "name": "stdout",
     "output_type": "stream",
     "text": [
      "../csv_data/GDP(분기별)_00-24.csv\n"
     ]
    }
   ],
   "source": [
    "dir_path = \"../csv_data/\"\n",
    "file_path = ['GDP(분기별)_00-24.csv', '실업률(월별)_99-24.csv', '경제성장률(분기별)_47-24.csv',\n",
    "             '원달러_환율(월별)_64-24.csv', '국제_에너지_원자제가격(월별)_90-24.csv', '은행대출금 연체율(월별)_02-24.csv', \n",
    "             '미국_Fed_기준금리(월별)_54-24.csv', '주택매매가격지수(월별)03-24.csv', '생산자물가지수(월별)_65-24.csv', \n",
    "             '통화량(월별)86-24_07110442.csv', '소비자물가지수(월별)65-24.csv', '한국은행 기준금리(월별)_99-24.csv'] \n",
    "print(dir_path+file_path[0])"
   ]
  },
  {
   "cell_type": "markdown",
   "id": "8e6894cf",
   "metadata": {},
   "source": [
    "### GDP데이터 변환\n",
    "    - 결측치 처리: 맨 처음 데이터는 전기대비증가량 존재 X\n",
    "        -체우기: 앞의 값으로 체운다.\n",
    "        -삭제: 24.3,4분기 데이터 미발표로 인한 삭제"
   ]
  },
  {
   "cell_type": "code",
   "execution_count": 2,
   "id": "d63c1867",
   "metadata": {},
   "outputs": [
    {
     "name": "stdout",
     "output_type": "stream",
     "text": [
      "GDP(분기별)_00-24.csv \n",
      "\n",
      "데이터 프레임 구조: (100, 4) \n",
      "\n",
      "        변환        원자료   전기대비증감  전기대비증감률\n",
      "0  2000/Q1  164,844.8      NaN      NaN\n",
      "1  2000/Q2  166,144.7  1,299.9      0.8\n",
      "2  2000/Q3  171,511.6  5,366.9      3.2\n",
      "3  2000/Q4  173,231.4  1,719.8      1.0\n",
      "4  2001/Q1  178,437.2  5,205.8      3.0\n",
      "\n",
      "데이터 정보 :\n",
      "\n",
      "<class 'pandas.core.frame.DataFrame'>\n",
      "RangeIndex: 100 entries, 0 to 99\n",
      "Data columns (total 4 columns):\n",
      " #   Column   Non-Null Count  Dtype  \n",
      "---  ------   --------------  -----  \n",
      " 0   변환       100 non-null    object \n",
      " 1   원자료      98 non-null     object \n",
      " 2   전기대비증감   97 non-null     object \n",
      " 3   전기대비증감률  97 non-null     float64\n",
      "dtypes: float64(1), object(3)\n",
      "memory usage: 3.3+ KB\n",
      "None\n",
      "\n",
      "Nan 값 존재 데이터\n",
      "         변환        원자료 전기대비증감  전기대비증감률\n",
      "0   2000/Q1  164,844.8    NaN      NaN\n",
      "98  2024/Q3        NaN    NaN      NaN\n",
      "99  2024/Q4        NaN    NaN      NaN\n"
     ]
    }
   ],
   "source": [
    "import pandas as pd\n",
    "df = pd.read_csv(dir_path+file_path[0])\n",
    "print(file_path[0],\"\\n\")\n",
    "print(\"데이터 프레임 구조:\", df.shape,\"\\n\")\n",
    "print(df.head())\n",
    "print(\"\\n데이터 정보 :\\n\")\n",
    "print(df.info())\n",
    "print(\"\\nNan 값 존재 데이터\")\n",
    "print(df[df.isnull().any(axis=1)])"
   ]
  },
  {
   "cell_type": "code",
   "execution_count": null,
   "id": "3cff00fe-97d3-41b7-9a08-8a54517c39d7",
   "metadata": {},
   "outputs": [
    {
     "name": "stdout",
     "output_type": "stream",
     "text": [
      "Empty DataFrame\n",
      "Columns: [변환, 원자료, 전기대비증감, 전기대비증감률]\n",
      "Index: []\n"
     ]
    },
    {
     "name": "stderr",
     "output_type": "stream",
     "text": [
      "C:\\Users\\HYUK\\AppData\\Local\\Temp\\ipykernel_19972\\858359163.py:5: FutureWarning: DataFrame.fillna with 'method' is deprecated and will raise in a future version. Use obj.ffill() or obj.bfill() instead.\n",
      "  df.fillna(method='Bfill', inplace=True)\n"
     ]
    },
    {
     "ename": "TypeError",
     "evalue": "expected str, bytes or os.PathLike object, not list",
     "output_type": "error",
     "traceback": [
      "\u001b[1;31m---------------------------------------------------------------------------\u001b[0m",
      "\u001b[1;31mTypeError\u001b[0m                                 Traceback (most recent call last)",
      "Cell \u001b[1;32mIn[5], line 10\u001b[0m\n\u001b[0;32m      8\u001b[0m \u001b[38;5;28mprint\u001b[39m(df[df\u001b[38;5;241m.\u001b[39misnull()\u001b[38;5;241m.\u001b[39many(axis\u001b[38;5;241m=\u001b[39m\u001b[38;5;241m1\u001b[39m)])\n\u001b[0;32m      9\u001b[0m new_data_path \u001b[38;5;241m=\u001b[39m \u001b[38;5;124m\"\u001b[39m\u001b[38;5;124m../new_csv/new_\u001b[39m\u001b[38;5;124m\"\u001b[39m\u001b[38;5;241m+\u001b[39mfile_path[\u001b[38;5;241m0\u001b[39m]\n\u001b[1;32m---> 10\u001b[0m directory \u001b[38;5;241m=\u001b[39m \u001b[43mos\u001b[49m\u001b[38;5;241;43m.\u001b[39;49m\u001b[43mpath\u001b[49m\u001b[38;5;241;43m.\u001b[39;49m\u001b[43mdirname\u001b[49m\u001b[43m(\u001b[49m\u001b[43mfile_path\u001b[49m\u001b[43m)\u001b[49m\n\u001b[0;32m     11\u001b[0m \u001b[38;5;66;03m# 데이터 저장\u001b[39;00m\n\u001b[0;32m     12\u001b[0m df\u001b[38;5;241m.\u001b[39mto_csv(\u001b[38;5;124m\"\u001b[39m\u001b[38;5;124m../new_csv/new_\u001b[39m\u001b[38;5;124m\"\u001b[39m\u001b[38;5;241m+\u001b[39mfile_path[\u001b[38;5;241m0\u001b[39m])\n",
      "File \u001b[1;32m<frozen ntpath>:263\u001b[0m, in \u001b[0;36mdirname\u001b[1;34m(p)\u001b[0m\n",
      "File \u001b[1;32m<frozen ntpath>:227\u001b[0m, in \u001b[0;36msplit\u001b[1;34m(p)\u001b[0m\n",
      "\u001b[1;31mTypeError\u001b[0m: expected str, bytes or os.PathLike object, not list"
     ]
    }
   ],
   "source": [
    "import os\n",
    "\n",
    "# 앞 값으로 대체\n",
    "df.fillna(method='Bfill', inplace=True)\n",
    "#24년 3,4 제거\n",
    "df.dropna(how=\"any\", inplace=True)\n",
    "print(df[df.isnull().any(axis=1)])\n",
    "new_data_path = \"../new_csv/new_\"+file_path[0]\n",
    "directory = os.path.dirname(file_path)\n",
    "# 데이터 저장\n",
    "df.to_csv(\"../new_csv/new_\"+file_path[0])\n"
   ]
  },
  {
   "cell_type": "code",
   "execution_count": null,
   "id": "82a9bff4-0d45-41d6-8440-1393ba58148c",
   "metadata": {},
   "outputs": [],
   "source": []
  }
 ],
 "metadata": {
  "kernelspec": {
   "display_name": "24_TSD_kdh",
   "language": "python",
   "name": "python3"
  },
  "language_info": {
   "codemirror_mode": {
    "name": "ipython",
    "version": 3
   },
   "file_extension": ".py",
   "mimetype": "text/x-python",
   "name": "python",
   "nbconvert_exporter": "python",
   "pygments_lexer": "ipython3",
   "version": "3.13.0"
  }
 },
 "nbformat": 4,
 "nbformat_minor": 5
}
